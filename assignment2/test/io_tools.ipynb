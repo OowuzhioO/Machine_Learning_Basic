{
 "cells": [
  {
   "cell_type": "code",
   "execution_count": 5,
   "metadata": {},
   "outputs": [],
   "source": [
    "\"\"\"Input and output helpers to load in data.\"\"\"\n",
    "\n",
    "import csv\n",
    "import numpy as np\n",
    "\n",
    "\n",
    "def read_dataset(input_csv_file):\n",
    "    \"\"\"Read data into a python list.\n",
    "\n",
    "    Args:\n",
    "        input_csv_file: Path to the data csv file.\n",
    "\n",
    "    Returns:\n",
    "        dataset(dict): A python dictionary with the key value pair of\n",
    "            (example_id, example_feature).\n",
    "\n",
    "            example_feature is represented with a tuple\n",
    "            (Id, BldgType, OverallQual, GrLivArea, GarageArea)\n",
    "\n",
    "            For example, the first row will be in the train.csv is\n",
    "            example_id = 1\n",
    "            example_feature = (1,1Fam,7,1710,548)\n",
    "    \"\"\"\n",
    "    dataset = {}\n",
    "\n",
    "    # Imeplemntation here.\n",
    "    with open(input_csv_file) as csvfile:\n",
    "        reader = csv.DictReader(csvfile)\n",
    "        for row in reader:\n",
    "            dataset[row['Id']] = (row['Id'],\n",
    "                                  row['BldgType'],\n",
    "                                  row['OverallQual'],\n",
    "                                  row['GrLivArea'],\n",
    "                                  row['GarageArea'],\n",
    "                                  row['SalePrice'])\n",
    "\n",
    "    return dataset\n",
    "\n",
    "dst = read_dataset(\"./assignment2_data/train.csv\")\n"
   ]
  },
  {
   "cell_type": "code",
   "execution_count": 60,
   "metadata": {
    "scrolled": true
   },
   "outputs": [
    {
     "name": "stdout",
     "output_type": "stream",
     "text": [
      "[[1.000e+00 0.000e+00 0.000e+00 ... 7.000e+00 1.710e+03 5.480e+02]\n",
      " [1.000e+00 0.000e+00 0.000e+00 ... 6.000e+00 1.262e+03 4.600e+02]\n",
      " [1.000e+00 0.000e+00 0.000e+00 ... 7.000e+00 1.786e+03 6.080e+02]\n",
      " ...\n",
      " [1.000e+00 0.000e+00 0.000e+00 ... 6.000e+00 1.442e+03 6.150e+02]\n",
      " [1.000e+00 0.000e+00 0.000e+00 ... 3.000e+00 1.077e+03 2.100e+02]\n",
      " [1.000e+00 0.000e+00 0.000e+00 ... 7.000e+00 1.208e+03 6.320e+02]]\n"
     ]
    }
   ],
   "source": [
    "\"\"\"Implements feature extraction and data processing helpers.\n",
    "\"\"\"\n",
    "\n",
    "def preprocess_data(dataset,\n",
    "                    feature_columns=[\n",
    "                        'Id', 'BldgType', 'OverallQual'\n",
    "                        'GrLivArea', 'GarageArea'\n",
    "                    ],\n",
    "                    squared_features=False,\n",
    "                    ):\n",
    "    \"\"\"Processes the dataset into vector representation.\n",
    "\n",
    "    When converting the BldgType to a vector, use one-hot encoding, the order\n",
    "    has been provided in the one_hot_bldg_type helper function. Otherwise,\n",
    "    the values in the column can be directly used.\n",
    "\n",
    "    If squared_features is true, then the feature values should be\n",
    "    element-wise squared.\n",
    "\n",
    "    Args:\n",
    "        dataset(dict): Dataset extracted from io_tools.read_dataset\n",
    "        feature_columns(list): List of feature names.\n",
    "        squred_features(bool): Whether to square the features.\n",
    "\n",
    "    Returns:\n",
    "        processed_datas(list): List of numpy arrays x, y.\n",
    "            x is a numpy array, of dimension (N,K), N is the number of example\n",
    "            in the dataset, and K is the length of the feature vector.\n",
    "            Note: BldgType when converted to one hot vector is of length 5.\n",
    "            Each row of x contains an example.\n",
    "            y is a numpy array, of dimension (N,1) containing the SalePrice.\n",
    "    \"\"\"\n",
    "    columns_to_id = {'Id': 0, 'BldgType': 1, 'OverallQual': 2,\n",
    "                     'GrLivArea': 3, 'GarageArea': 4, 'SalePrice': 5}\n",
    "\n",
    "    x = []\n",
    "    y = []\n",
    "    \n",
    "    for k, v in dataset.items():\n",
    "        x_helper = []\n",
    "#         x_helper.append(float(v[0]))\n",
    "        bt_vec = one_hot_bldg_type(v[1])\n",
    "        for l in bt_vec:\n",
    "            x_helper.append(l)\n",
    "        for rem in range(2, 5):\n",
    "            x_helper.append(float(v[rem]))\n",
    "        x.append(x_helper)\n",
    "        y.append(float(v[5]))\n",
    "\n",
    "    x = np.array(x)\n",
    "    y = np.array(y)[np.newaxis]\n",
    "    y = y.T\n",
    "    if squared_features is True:\n",
    "        x = np.square(x)\n",
    "        y = np.square(y)\n",
    "        \n",
    "    processed_dataset = [x, y]\n",
    "    return processed_dataset\n",
    "\n",
    "\n",
    "def one_hot_bldg_type(bldg_type):\n",
    "    \"\"\"Builds the one-hot encoding vector.\n",
    "\n",
    "    Args:\n",
    "        bldg_type(str): String indicating the building type.\n",
    "\n",
    "    Returns:\n",
    "        ret(list): A list representing the one-hot encoding vector.\n",
    "            (e.g. for 1Fam building type, the returned list should be\n",
    "            [1,0,0,0,0].\n",
    "    \"\"\"\n",
    "    type_to_id = {'1Fam': 0,\n",
    "                  '2FmCon': 1,\n",
    "                  'Duplx': 2,\n",
    "                  'TwnhsE': 3,\n",
    "                  'TwnhsI': 4,\n",
    "                  }\n",
    "#     for tb in type_to_id:\n",
    "#         if bldg_type == tb:\n",
    "#             index = int(type_to_id[tb])\n",
    "    index = type_to_id[bldg_type]\n",
    "    ret = [0, 0, 0, 0, 0]\n",
    "    ret[index] = 1\n",
    "    return ret\n",
    "\n",
    "# result = one_hot_bldg_type(\"Duplx\")\n",
    "print(preprocess_data(dst)[0])\n"
   ]
  },
  {
   "cell_type": "code",
   "execution_count": 56,
   "metadata": {},
   "outputs": [
    {
     "name": "stdout",
     "output_type": "stream",
     "text": [
      "62\n"
     ]
    }
   ],
   "source": [
    "processed_dataset = preprocess_data(dst)\n",
    "sizeofds = processed_dataset[0].shape[0] \n",
    "shuf = np.arange(sizeofds)\n",
    "np.random.shuffle(shuf)\n",
    "processed_dataset[0] = processed_dataset[0][shuf]\n",
    "processed_dataset[1] = processed_dataset[1][shuf]\n",
    "batch_size = 16\n",
    "i = 0\n",
    "count = 0\n",
    "num_steps = 10000\n",
    "while i + batch_size <= sizeofds:\n",
    "        count = count + 1\n",
    "        if count > num_steps:\n",
    "            break\n",
    "        x_batch = processed_dataset[0][i:i+batch_size,:]\n",
    "        y_batch = processed_dataset[1][:, i:i+batch_size]\n",
    "#         update_step(x_batch, y_batch, model, learning_rate)\n",
    "        i = i + batch_size\n",
    "print(count)  "
   ]
  },
  {
   "cell_type": "code",
   "execution_count": null,
   "metadata": {},
   "outputs": [],
   "source": []
  },
  {
   "cell_type": "code",
   "execution_count": 63,
   "metadata": {},
   "outputs": [
    {
     "name": "stdout",
     "output_type": "stream",
     "text": [
      "<class 'int'>\n"
     ]
    },
    {
     "ename": "TypeError",
     "evalue": "data type not understood",
     "output_type": "error",
     "traceback": [
      "\u001b[0;31m---------------------------------------------------------------------------\u001b[0m",
      "\u001b[0;31mTypeError\u001b[0m                                 Traceback (most recent call last)",
      "\u001b[0;32m<ipython-input-63-1f965bf7af23>\u001b[0m in \u001b[0;36m<module>\u001b[0;34m()\u001b[0m\n\u001b[1;32m      3\u001b[0m  \u001b[0;31m#       print(\"actual in forward x\",N)\u001b[0m\u001b[0;34m\u001b[0m\u001b[0;34m\u001b[0m\u001b[0m\n\u001b[1;32m      4\u001b[0m \u001b[0mndims\u001b[0m \u001b[0;34m=\u001b[0m \u001b[0;36m8\u001b[0m\u001b[0;34m\u001b[0m\u001b[0m\n\u001b[0;32m----> 5\u001b[0;31m \u001b[0mx_cur\u001b[0m \u001b[0;34m=\u001b[0m \u001b[0mnp\u001b[0m\u001b[0;34m.\u001b[0m\u001b[0mones\u001b[0m\u001b[0;34m(\u001b[0m\u001b[0mN\u001b[0m\u001b[0;34m,\u001b[0m \u001b[0mndims\u001b[0m \u001b[0;34m+\u001b[0m \u001b[0;36m1\u001b[0m\u001b[0;34m)\u001b[0m\u001b[0;34m\u001b[0m\u001b[0m\n\u001b[0m\u001b[1;32m      6\u001b[0m \u001b[0;31m#     x_cur[:,:-1] = x\u001b[0m\u001b[0;34m\u001b[0m\u001b[0;34m\u001b[0m\u001b[0m\n\u001b[1;32m      7\u001b[0m \u001b[0;31m#     f = np.matmul(w_t, x_cur)\u001b[0m\u001b[0;34m\u001b[0m\u001b[0;34m\u001b[0m\u001b[0m\n",
      "\u001b[0;32m~/Doc/cs/uiuc/Machine_Learning/assignment/ml_env/lib/python3.6/site-packages/numpy/core/numeric.py\u001b[0m in \u001b[0;36mones\u001b[0;34m(shape, dtype, order)\u001b[0m\n\u001b[1;32m    186\u001b[0m \u001b[0;34m\u001b[0m\u001b[0m\n\u001b[1;32m    187\u001b[0m     \"\"\"\n\u001b[0;32m--> 188\u001b[0;31m     \u001b[0ma\u001b[0m \u001b[0;34m=\u001b[0m \u001b[0mempty\u001b[0m\u001b[0;34m(\u001b[0m\u001b[0mshape\u001b[0m\u001b[0;34m,\u001b[0m \u001b[0mdtype\u001b[0m\u001b[0;34m,\u001b[0m \u001b[0morder\u001b[0m\u001b[0;34m)\u001b[0m\u001b[0;34m\u001b[0m\u001b[0m\n\u001b[0m\u001b[1;32m    189\u001b[0m     \u001b[0mmultiarray\u001b[0m\u001b[0;34m.\u001b[0m\u001b[0mcopyto\u001b[0m\u001b[0;34m(\u001b[0m\u001b[0ma\u001b[0m\u001b[0;34m,\u001b[0m \u001b[0;36m1\u001b[0m\u001b[0;34m,\u001b[0m \u001b[0mcasting\u001b[0m\u001b[0;34m=\u001b[0m\u001b[0;34m'unsafe'\u001b[0m\u001b[0;34m)\u001b[0m\u001b[0;34m\u001b[0m\u001b[0m\n\u001b[1;32m    190\u001b[0m     \u001b[0;32mreturn\u001b[0m \u001b[0ma\u001b[0m\u001b[0;34m\u001b[0m\u001b[0m\n",
      "\u001b[0;31mTypeError\u001b[0m: data type not understood"
     ]
    }
   ],
   "source": [
    "N = 1000\n",
    "print(type(N))\n",
    " #       print(\"actual in forward x\",N)\n",
    "ndims = 8\n",
    "x_cur = np.ones(N, ndims + 1)\n",
    "#     x_cur[:,:-1] = x\n",
    "#     f = np.matmul(w_t, x_cur)"
   ]
  },
  {
   "cell_type": "code",
   "execution_count": 64,
   "metadata": {},
   "outputs": [
    {
     "ename": "TypeError",
     "evalue": "data type not understood",
     "output_type": "error",
     "traceback": [
      "\u001b[0;31m---------------------------------------------------------------------------\u001b[0m",
      "\u001b[0;31mTypeError\u001b[0m                                 Traceback (most recent call last)",
      "\u001b[0;32m<ipython-input-64-be6c09c57990>\u001b[0m in \u001b[0;36m<module>\u001b[0;34m()\u001b[0m\n\u001b[0;32m----> 1\u001b[0;31m \u001b[0ma\u001b[0m \u001b[0;34m=\u001b[0m \u001b[0mnp\u001b[0m\u001b[0;34m.\u001b[0m\u001b[0mones\u001b[0m\u001b[0;34m(\u001b[0m\u001b[0;36m2\u001b[0m\u001b[0;34m,\u001b[0m \u001b[0;36m9\u001b[0m\u001b[0;34m)\u001b[0m\u001b[0;34m\u001b[0m\u001b[0m\n\u001b[0m",
      "\u001b[0;32m~/Doc/cs/uiuc/Machine_Learning/assignment/ml_env/lib/python3.6/site-packages/numpy/core/numeric.py\u001b[0m in \u001b[0;36mones\u001b[0;34m(shape, dtype, order)\u001b[0m\n\u001b[1;32m    186\u001b[0m \u001b[0;34m\u001b[0m\u001b[0m\n\u001b[1;32m    187\u001b[0m     \"\"\"\n\u001b[0;32m--> 188\u001b[0;31m     \u001b[0ma\u001b[0m \u001b[0;34m=\u001b[0m \u001b[0mempty\u001b[0m\u001b[0;34m(\u001b[0m\u001b[0mshape\u001b[0m\u001b[0;34m,\u001b[0m \u001b[0mdtype\u001b[0m\u001b[0;34m,\u001b[0m \u001b[0morder\u001b[0m\u001b[0;34m)\u001b[0m\u001b[0;34m\u001b[0m\u001b[0m\n\u001b[0m\u001b[1;32m    189\u001b[0m     \u001b[0mmultiarray\u001b[0m\u001b[0;34m.\u001b[0m\u001b[0mcopyto\u001b[0m\u001b[0;34m(\u001b[0m\u001b[0ma\u001b[0m\u001b[0;34m,\u001b[0m \u001b[0;36m1\u001b[0m\u001b[0;34m,\u001b[0m \u001b[0mcasting\u001b[0m\u001b[0;34m=\u001b[0m\u001b[0;34m'unsafe'\u001b[0m\u001b[0;34m)\u001b[0m\u001b[0;34m\u001b[0m\u001b[0m\n\u001b[1;32m    190\u001b[0m     \u001b[0;32mreturn\u001b[0m \u001b[0ma\u001b[0m\u001b[0;34m\u001b[0m\u001b[0m\n",
      "\u001b[0;31mTypeError\u001b[0m: data type not understood"
     ]
    }
   ],
   "source": [
    "a = np.ones(2, 9)"
   ]
  },
  {
   "cell_type": "code",
   "execution_count": null,
   "metadata": {},
   "outputs": [],
   "source": []
  }
 ],
 "metadata": {
  "kernelspec": {
   "display_name": "Python 3",
   "language": "python",
   "name": "python3"
  },
  "language_info": {
   "codemirror_mode": {
    "name": "ipython",
    "version": 3
   },
   "file_extension": ".py",
   "mimetype": "text/x-python",
   "name": "python",
   "nbconvert_exporter": "python",
   "pygments_lexer": "ipython3",
   "version": "3.6.3"
  }
 },
 "nbformat": 4,
 "nbformat_minor": 2
}
